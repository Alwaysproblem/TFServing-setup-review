{
 "nbformat": 4,
 "nbformat_minor": 2,
 "metadata": {
  "language_info": {
   "name": "python",
   "codemirror_mode": {
    "name": "ipython",
    "version": 3
   },
   "version": "3.7.4-final"
  },
  "orig_nbformat": 2,
  "file_extension": ".py",
  "mimetype": "text/x-python",
  "name": "python",
  "npconvert_exporter": "python",
  "pygments_lexer": "ipython3",
  "version": 3,
  "kernelspec": {
   "name": "python37464bittf2cpucondac236f1612a774c1b9ef8eec7483a7290",
   "display_name": "Python 3.7.4 64-bit ('tf2cpu': conda)"
  }
 },
 "cells": [
  {
   "cell_type": "code",
   "execution_count": 1,
   "metadata": {},
   "outputs": [],
   "source": [
    "import json\n",
    "import numpy as np\n",
    "from DataLoader import TFRecordLoader, SPARSES, VARLENS\n",
    "import tensorflow as tf\n",
    "from tensorflow.keras import Input, layers\n",
    "from tensorflow.keras.experimental import SequenceFeatures\n",
    "from tensorflow.keras.utils import plot_model\n",
    "feature_column = tf.feature_column"
   ]
  },
  {
   "cell_type": "code",
   "execution_count": 2,
   "metadata": {},
   "outputs": [],
   "source": [
    "col_type = {\n",
    "    'm1': 'int64',\n",
    "    'bid': 'int64',\n",
    "    'adid': 'int64',\n",
    "    'adspaceid': 'int64',\n",
    "    'adtype': 'int64',\n",
    "    'nt': 'int64',\n",
    "    'appid': 'int64',\n",
    "    'osv': 'int64',\n",
    "    'flag': 'int64',\n",
    "    'p_city': 'int64',\n",
    "    'install_pkgs': 'int64List',\n",
    "    'click_adids': 'int64List'\n",
    "}\n",
    "label_name = 'flag'\n",
    "batch_size = 3\n",
    "embedding_size = 4\n",
    "epochs = 2\n",
    "train_path = 'Toydataset/Dataset/ProcessedDataset/train/*.tfrecord'\n",
    "valid_path = 'Toydataset/Dataset/ProcessedDataset/valid/*.tfrecord'\n",
    "sparses = [f for f in col_type if col_type[f] in SPARSES and f != label_name]\n",
    "varlens = [f for f in col_type if col_type[f] in VARLENS and f != label_name]"
   ]
  },
  {
   "cell_type": "code",
   "execution_count": 3,
   "metadata": {},
   "outputs": [],
   "source": [
    "with open(\"Config/config_toy.json\") as f:\n",
    "    sparse_len_dic, varlen_len_dic, \\\n",
    "         varlen_maxlen_f, len_train, len_valid = json.load(f)"
   ]
  },
  {
   "cell_type": "code",
   "execution_count": 4,
   "metadata": {},
   "outputs": [],
   "source": [
    "train = TFRecordLoader(train_path, col_type, label_name=label_name, batch_size=batch_size, \n",
    "                        block_length=batch_size,).load()\n",
    "valid = TFRecordLoader(valid_path, col_type, label_name=label_name, batch_size=batch_size, \n",
    "                        block_length=batch_size,).load()"
   ]
  },
  {
   "cell_type": "code",
   "execution_count": 5,
   "metadata": {},
   "outputs": [
    {
     "name": "stdout",
     "output_type": "stream",
     "text": "({'click_adids': <tf.Tensor: shape=(3, 5156), dtype=int64, numpy=\narray([[ 1,  2,  3, ...,  0,  0,  0],\n       [49, 50, 51, ...,  0,  0,  0],\n       [70, 71,  9, ...,  0,  0,  0]])>, 'install_pkgs': <tf.Tensor: shape=(3, 257), dtype=int64, numpy=\narray([[ 1,  2,  3,  4,  5,  6,  7,  0,  0,  0,  0,  0,  0,  0,  0,  0,\n         0,  0,  0,  0,  0,  0,  0,  0,  0,  0,  0,  0,  0,  0,  0,  0,\n         0,  0,  0,  0,  0,  0,  0,  0,  0,  0,  0,  0,  0,  0,  0,  0,\n         0,  0,  0,  0,  0,  0,  0,  0,  0,  0,  0,  0,  0,  0,  0,  0,\n         0,  0,  0,  0,  0,  0,  0,  0,  0,  0,  0,  0,  0,  0,  0,  0,\n         0,  0,  0,  0,  0,  0,  0,  0,  0,  0,  0,  0,  0,  0,  0,  0,\n         0,  0,  0,  0,  0,  0,  0,  0,  0,  0,  0,  0,  0,  0,  0,  0,\n         0,  0,  0,  0,  0,  0,  0,  0,  0,  0,  0,  0,  0,  0,  0,  0,\n         0,  0,  0,  0,  0,  0,  0,  0,  0,  0,  0,  0,  0,  0,  0,  0,\n         0,  0,  0,  0,  0,  0,  0,  0,  0,  0,  0,  0,  0,  0,  0,  0,\n         0,  0,  0,  0,  0,  0,  0,  0,  0,  0,  0,  0,  0,  0,  0,  0,\n         0,  0,  0,  0,  0,  0,  0,  0,  0,  0,  0,  0,  0,  0,  0,  0,\n         0,  0,  0,  0,  0,  0,  0,  0,  0,  0,  0,  0,  0,  0,  0,  0,\n         0,  0,  0,  0,  0,  0,  0,  0,  0,  0,  0,  0,  0,  0,  0,  0,\n         0,  0,  0,  0,  0,  0,  0,  0,  0,  0,  0,  0,  0,  0,  0,  0,\n         0,  0,  0,  0,  0,  0,  0,  0,  0,  0,  0,  0,  0,  0,  0,  0,\n         0],\n       [16, 17, 18, 19, 20,  5, 21,  7,  0,  0,  0,  0,  0,  0,  0,  0,\n         0,  0,  0,  0,  0,  0,  0,  0,  0,  0,  0,  0,  0,  0,  0,  0,\n         0,  0,  0,  0,  0,  0,  0,  0,  0,  0,  0,  0,  0,  0,  0,  0,\n         0,  0,  0,  0,  0,  0,  0,  0,  0,  0,  0,  0,  0,  0,  0,  0,\n         0,  0,  0,  0,  0,  0,  0,  0,  0,  0,  0,  0,  0,  0,  0,  0,\n         0,  0,  0,  0,  0,  0,  0,  0,  0,  0,  0,  0,  0,  0,  0,  0,\n         0,  0,  0,  0,  0,  0,  0,  0,  0,  0,  0,  0,  0,  0,  0,  0,\n         0,  0,  0,  0,  0,  0,  0,  0,  0,  0,  0,  0,  0,  0,  0,  0,\n         0,  0,  0,  0,  0,  0,  0,  0,  0,  0,  0,  0,  0,  0,  0,  0,\n         0,  0,  0,  0,  0,  0,  0,  0,  0,  0,  0,  0,  0,  0,  0,  0,\n         0,  0,  0,  0,  0,  0,  0,  0,  0,  0,  0,  0,  0,  0,  0,  0,\n         0,  0,  0,  0,  0,  0,  0,  0,  0,  0,  0,  0,  0,  0,  0,  0,\n         0,  0,  0,  0,  0,  0,  0,  0,  0,  0,  0,  0,  0,  0,  0,  0,\n         0,  0,  0,  0,  0,  0,  0,  0,  0,  0,  0,  0,  0,  0,  0,  0,\n         0,  0,  0,  0,  0,  0,  0,  0,  0,  0,  0,  0,  0,  0,  0,  0,\n         0,  0,  0,  0,  0,  0,  0,  0,  0,  0,  0,  0,  0,  0,  0,  0,\n         0],\n       [10, 22, 23, 24, 19,  5,  7, 25, 26, 27,  0,  0,  0,  0,  0,  0,\n         0,  0,  0,  0,  0,  0,  0,  0,  0,  0,  0,  0,  0,  0,  0,  0,\n         0,  0,  0,  0,  0,  0,  0,  0,  0,  0,  0,  0,  0,  0,  0,  0,\n         0,  0,  0,  0,  0,  0,  0,  0,  0,  0,  0,  0,  0,  0,  0,  0,\n         0,  0,  0,  0,  0,  0,  0,  0,  0,  0,  0,  0,  0,  0,  0,  0,\n         0,  0,  0,  0,  0,  0,  0,  0,  0,  0,  0,  0,  0,  0,  0,  0,\n         0,  0,  0,  0,  0,  0,  0,  0,  0,  0,  0,  0,  0,  0,  0,  0,\n         0,  0,  0,  0,  0,  0,  0,  0,  0,  0,  0,  0,  0,  0,  0,  0,\n         0,  0,  0,  0,  0,  0,  0,  0,  0,  0,  0,  0,  0,  0,  0,  0,\n         0,  0,  0,  0,  0,  0,  0,  0,  0,  0,  0,  0,  0,  0,  0,  0,\n         0,  0,  0,  0,  0,  0,  0,  0,  0,  0,  0,  0,  0,  0,  0,  0,\n         0,  0,  0,  0,  0,  0,  0,  0,  0,  0,  0,  0,  0,  0,  0,  0,\n         0,  0,  0,  0,  0,  0,  0,  0,  0,  0,  0,  0,  0,  0,  0,  0,\n         0,  0,  0,  0,  0,  0,  0,  0,  0,  0,  0,  0,  0,  0,  0,  0,\n         0,  0,  0,  0,  0,  0,  0,  0,  0,  0,  0,  0,  0,  0,  0,  0,\n         0,  0,  0,  0,  0,  0,  0,  0,  0,  0,  0,  0,  0,  0,  0,  0,\n         0]])>, 'adid': <tf.Tensor: shape=(3,), dtype=int64, numpy=array([1, 3, 4])>, 'adspaceid': <tf.Tensor: shape=(3,), dtype=int64, numpy=array([1, 1, 1])>, 'adtype': <tf.Tensor: shape=(3,), dtype=int64, numpy=array([1, 1, 1])>, 'appid': <tf.Tensor: shape=(3,), dtype=int64, numpy=array([1, 1, 1])>, 'bid': <tf.Tensor: shape=(3,), dtype=int64, numpy=array([1, 3, 4])>, 'm1': <tf.Tensor: shape=(3,), dtype=int64, numpy=array([1, 3, 4])>, 'nt': <tf.Tensor: shape=(3,), dtype=int64, numpy=array([1, 1, 1])>, 'osv': <tf.Tensor: shape=(3,), dtype=int64, numpy=array([1, 3, 4])>, 'p_city': <tf.Tensor: shape=(3,), dtype=int64, numpy=array([1, 3, 4])>}, <tf.Tensor: shape=(3,), dtype=int64, numpy=array([1, 0, 0])>)\n"
    }
   ],
   "source": [
    "print(*train.take(1))"
   ]
  },
  {
   "cell_type": "code",
   "execution_count": 6,
   "metadata": {},
   "outputs": [
    {
     "name": "stdout",
     "output_type": "stream",
     "text": "tf.Tensor([1 0 0], shape=(3,), dtype=int64)\n{'click_adids': <tf.Tensor: shape=(3, 5156), dtype=int64, numpy=\narray([[ 1,  2,  3, ...,  0,  0,  0],\n       [49, 50, 51, ...,  0,  0,  0],\n       [70, 71,  9, ...,  0,  0,  0]])>, 'install_pkgs': <tf.Tensor: shape=(3, 257), dtype=int64, numpy=\narray([[ 1,  2,  3,  4,  5,  6,  7,  0,  0,  0,  0,  0,  0,  0,  0,  0,\n         0,  0,  0,  0,  0,  0,  0,  0,  0,  0,  0,  0,  0,  0,  0,  0,\n         0,  0,  0,  0,  0,  0,  0,  0,  0,  0,  0,  0,  0,  0,  0,  0,\n         0,  0,  0,  0,  0,  0,  0,  0,  0,  0,  0,  0,  0,  0,  0,  0,\n         0,  0,  0,  0,  0,  0,  0,  0,  0,  0,  0,  0,  0,  0,  0,  0,\n         0,  0,  0,  0,  0,  0,  0,  0,  0,  0,  0,  0,  0,  0,  0,  0,\n         0,  0,  0,  0,  0,  0,  0,  0,  0,  0,  0,  0,  0,  0,  0,  0,\n         0,  0,  0,  0,  0,  0,  0,  0,  0,  0,  0,  0,  0,  0,  0,  0,\n         0,  0,  0,  0,  0,  0,  0,  0,  0,  0,  0,  0,  0,  0,  0,  0,\n         0,  0,  0,  0,  0,  0,  0,  0,  0,  0,  0,  0,  0,  0,  0,  0,\n         0,  0,  0,  0,  0,  0,  0,  0,  0,  0,  0,  0,  0,  0,  0,  0,\n         0,  0,  0,  0,  0,  0,  0,  0,  0,  0,  0,  0,  0,  0,  0,  0,\n         0,  0,  0,  0,  0,  0,  0,  0,  0,  0,  0,  0,  0,  0,  0,  0,\n         0,  0,  0,  0,  0,  0,  0,  0,  0,  0,  0,  0,  0,  0,  0,  0,\n         0,  0,  0,  0,  0,  0,  0,  0,  0,  0,  0,  0,  0,  0,  0,  0,\n         0,  0,  0,  0,  0,  0,  0,  0,  0,  0,  0,  0,  0,  0,  0,  0,\n         0],\n       [16, 17, 18, 19, 20,  5, 21,  7,  0,  0,  0,  0,  0,  0,  0,  0,\n         0,  0,  0,  0,  0,  0,  0,  0,  0,  0,  0,  0,  0,  0,  0,  0,\n         0,  0,  0,  0,  0,  0,  0,  0,  0,  0,  0,  0,  0,  0,  0,  0,\n         0,  0,  0,  0,  0,  0,  0,  0,  0,  0,  0,  0,  0,  0,  0,  0,\n         0,  0,  0,  0,  0,  0,  0,  0,  0,  0,  0,  0,  0,  0,  0,  0,\n         0,  0,  0,  0,  0,  0,  0,  0,  0,  0,  0,  0,  0,  0,  0,  0,\n         0,  0,  0,  0,  0,  0,  0,  0,  0,  0,  0,  0,  0,  0,  0,  0,\n         0,  0,  0,  0,  0,  0,  0,  0,  0,  0,  0,  0,  0,  0,  0,  0,\n         0,  0,  0,  0,  0,  0,  0,  0,  0,  0,  0,  0,  0,  0,  0,  0,\n         0,  0,  0,  0,  0,  0,  0,  0,  0,  0,  0,  0,  0,  0,  0,  0,\n         0,  0,  0,  0,  0,  0,  0,  0,  0,  0,  0,  0,  0,  0,  0,  0,\n         0,  0,  0,  0,  0,  0,  0,  0,  0,  0,  0,  0,  0,  0,  0,  0,\n         0,  0,  0,  0,  0,  0,  0,  0,  0,  0,  0,  0,  0,  0,  0,  0,\n         0,  0,  0,  0,  0,  0,  0,  0,  0,  0,  0,  0,  0,  0,  0,  0,\n         0,  0,  0,  0,  0,  0,  0,  0,  0,  0,  0,  0,  0,  0,  0,  0,\n         0,  0,  0,  0,  0,  0,  0,  0,  0,  0,  0,  0,  0,  0,  0,  0,\n         0],\n       [10, 22, 23, 24, 19,  5,  7, 25, 26, 27,  0,  0,  0,  0,  0,  0,\n         0,  0,  0,  0,  0,  0,  0,  0,  0,  0,  0,  0,  0,  0,  0,  0,\n         0,  0,  0,  0,  0,  0,  0,  0,  0,  0,  0,  0,  0,  0,  0,  0,\n         0,  0,  0,  0,  0,  0,  0,  0,  0,  0,  0,  0,  0,  0,  0,  0,\n         0,  0,  0,  0,  0,  0,  0,  0,  0,  0,  0,  0,  0,  0,  0,  0,\n         0,  0,  0,  0,  0,  0,  0,  0,  0,  0,  0,  0,  0,  0,  0,  0,\n         0,  0,  0,  0,  0,  0,  0,  0,  0,  0,  0,  0,  0,  0,  0,  0,\n         0,  0,  0,  0,  0,  0,  0,  0,  0,  0,  0,  0,  0,  0,  0,  0,\n         0,  0,  0,  0,  0,  0,  0,  0,  0,  0,  0,  0,  0,  0,  0,  0,\n         0,  0,  0,  0,  0,  0,  0,  0,  0,  0,  0,  0,  0,  0,  0,  0,\n         0,  0,  0,  0,  0,  0,  0,  0,  0,  0,  0,  0,  0,  0,  0,  0,\n         0,  0,  0,  0,  0,  0,  0,  0,  0,  0,  0,  0,  0,  0,  0,  0,\n         0,  0,  0,  0,  0,  0,  0,  0,  0,  0,  0,  0,  0,  0,  0,  0,\n         0,  0,  0,  0,  0,  0,  0,  0,  0,  0,  0,  0,  0,  0,  0,  0,\n         0,  0,  0,  0,  0,  0,  0,  0,  0,  0,  0,  0,  0,  0,  0,  0,\n         0,  0,  0,  0,  0,  0,  0,  0,  0,  0,  0,  0,  0,  0,  0,  0,\n         0]])>, 'adid': <tf.Tensor: shape=(3,), dtype=int64, numpy=array([1, 3, 4])>, 'adspaceid': <tf.Tensor: shape=(3,), dtype=int64, numpy=array([1, 1, 1])>, 'adtype': <tf.Tensor: shape=(3,), dtype=int64, numpy=array([1, 1, 1])>, 'appid': <tf.Tensor: shape=(3,), dtype=int64, numpy=array([1, 1, 1])>, 'bid': <tf.Tensor: shape=(3,), dtype=int64, numpy=array([1, 3, 4])>, 'm1': <tf.Tensor: shape=(3,), dtype=int64, numpy=array([1, 3, 4])>, 'nt': <tf.Tensor: shape=(3,), dtype=int64, numpy=array([1, 1, 1])>, 'osv': <tf.Tensor: shape=(3,), dtype=int64, numpy=array([1, 3, 4])>, 'p_city': <tf.Tensor: shape=(3,), dtype=int64, numpy=array([1, 3, 4])>}\n"
    }
   ],
   "source": [
    "[(example, exmp_label)] = [*train.take(1)]\n",
    "print(exmp_label)\n",
    "print(example)"
   ]
  },
  {
   "cell_type": "code",
   "execution_count": 7,
   "metadata": {},
   "outputs": [
    {
     "data": {
      "text/plain": "<tf.Tensor: shape=(3, 4), dtype=float32, numpy=\narray([[ 0.09940365, -0.19973306,  0.21417359,  0.39449045],\n       [-0.05586148, -0.36310735,  0.11235967, -0.08208282],\n       [-0.08816505,  0.09650055, -0.22900821, -0.2994369 ]],\n      dtype=float32)>"
     },
     "execution_count": 7,
     "metadata": {},
     "output_type": "execute_result"
    }
   ],
   "source": [
    "adid = feature_column.categorical_column_with_identity(\n",
    "    \"adid\", num_buckets=sparse_len_dic['adid'])\n",
    "adid_embedding = feature_column.embedding_column(adid, embedding_size, \n",
    "                        initializer=tf.keras.initializers.he_normal(seed=None))\n",
    "adid_layer = layers.DenseFeatures(adid_embedding, name=\"adid_emb\")\n",
    "adid_layer(example)"
   ]
  },
  {
   "cell_type": "code",
   "execution_count": 8,
   "metadata": {},
   "outputs": [],
   "source": [
    "def sparse_embeding_layer(key, embedding_size, vocab_size, name=None, initializer=None):\n",
    "    cat_col = feature_column.categorical_column_with_identity(\n",
    "                                    key, num_buckets=vocab_size)\n",
    "    col_embedding = feature_column.embedding_column(\n",
    "                        cat_col, embedding_size, initializer=initializer)\n",
    "    emblayer = layers.DenseFeatures(col_embedding, name=name if name is not None else key + \"_emb\")\n",
    "    return emblayer"
   ]
  },
  {
   "cell_type": "code",
   "execution_count": 9,
   "metadata": {},
   "outputs": [],
   "source": [
    "adid_layer = sparse_embeding_layer('adid', embedding_size, sparse_len_dic['adid'])"
   ]
  },
  {
   "cell_type": "code",
   "execution_count": 10,
   "metadata": {},
   "outputs": [
    {
     "data": {
      "text/plain": "<tf.Tensor: shape=(3, 4), dtype=float32, numpy=\narray([[ 0.37513614, -0.14682907,  0.14456867,  0.20159087],\n       [ 0.12208718,  0.8399437 , -0.17844664,  0.74585474],\n       [ 0.19035807, -0.4753918 , -0.48422232,  0.6382411 ]],\n      dtype=float32)>"
     },
     "execution_count": 10,
     "metadata": {},
     "output_type": "execute_result"
    }
   ],
   "source": [
    "adid_layer(example)"
   ]
  },
  {
   "cell_type": "code",
   "execution_count": 11,
   "metadata": {},
   "outputs": [
    {
     "name": "stdout",
     "output_type": "stream",
     "text": "sequence:\n[[[ 1.91125631e-01  9.27818954e-01 -4.34757888e-01 -3.48323584e-01]\n  [ 1.06005296e-01 -6.73660576e-01 -3.49974722e-01  4.21379745e-01]\n  [ 2.06368893e-01 -8.66405904e-01 -7.84736723e-02  1.89559069e-02]\n  ...\n  [ 3.20280671e-01 -3.31606328e-01  2.20045343e-01 -9.46716487e-01]\n  [ 3.20280671e-01 -3.31606328e-01  2.20045343e-01 -9.46716487e-01]\n  [ 3.20280671e-01 -3.31606328e-01  2.20045343e-01 -9.46716487e-01]]\n\n [[-3.58405769e-01  6.08041845e-02 -4.43093687e-01 -1.77497104e-01]\n  [ 3.54928851e-01 -6.34709120e-01  7.63670325e-01  5.87668478e-01]\n  [-2.70873494e-02  1.77359134e-01  8.59055966e-02  3.56608517e-02]\n  ...\n  [ 3.20280671e-01 -3.31606328e-01  2.20045343e-01 -9.46716487e-01]\n  [ 3.20280671e-01 -3.31606328e-01  2.20045343e-01 -9.46716487e-01]\n  [ 3.20280671e-01 -3.31606328e-01  2.20045343e-01 -9.46716487e-01]]\n\n [[ 6.85032725e-01  1.74501628e-01  8.99260107e-04 -2.77342558e-01]\n  [-4.87223119e-01  8.08861032e-02  8.38968337e-01 -2.25558579e-01]\n  [-1.28099084e-01  2.33384207e-01 -3.81782055e-02  7.27899075e-01]\n  ...\n  [ 3.20280671e-01 -3.31606328e-01  2.20045343e-01 -9.46716487e-01]\n  [ 3.20280671e-01 -3.31606328e-01  2.20045343e-01 -9.46716487e-01]\n  [ 3.20280671e-01 -3.31606328e-01  2.20045343e-01 -9.46716487e-01]]]\nsequence_length:\n[[ True  True  True ...  True  True  True]\n [ True  True  True ...  True  True  True]\n [ True  True  True ...  True  True  True]]\n"
    }
   ],
   "source": [
    "varlen_click = feature_column.\\\n",
    "        sequence_categorical_column_with_identity(\"click_adids\", varlen_len_dic[\"click_adids\"])\n",
    "varlen_click_emb = feature_column.embedding_column(varlen_click, embedding_size, initializer=None)\n",
    "click_layer = SequenceFeatures(varlen_click_emb)\n",
    "seq, seq_len = click_layer(example)\n",
    "seq_mask = tf.sequence_mask(seq_len)\n",
    "print(f\"sequence:\\n{seq}\\nsequence_length:\\n{seq_mask}\")"
   ]
  },
  {
   "cell_type": "code",
   "execution_count": 12,
   "metadata": {},
   "outputs": [],
   "source": [
    "def varlen_embedding_layer(key, embedding_size, vocab_size, name=None, initializer=None):\n",
    "    varlen_col = feature_column.\\\n",
    "            sequence_categorical_column_with_identity(key, vocab_size)\n",
    "    varlen_emb = feature_column.embedding_column(varlen_col, embedding_size, initializer=None)\n",
    "    seq_layer = SequenceFeatures(varlen_emb, name = name if name is not None else key + '_seq_emb')\n",
    "    return seq_layer"
   ]
  },
  {
   "cell_type": "code",
   "execution_count": 13,
   "metadata": {},
   "outputs": [
    {
     "name": "stdout",
     "output_type": "stream",
     "text": "sequence:\n[[[ 0.16454943  0.50537026  0.20934807  0.1092468 ]\n  [-0.14189373  0.1253067   0.05022483 -0.01403708]\n  [-0.0906689  -0.8214567   0.8211525   0.8974337 ]\n  ...\n  [-0.52956736  0.2305574   0.29842514 -0.8706792 ]\n  [-0.52956736  0.2305574   0.29842514 -0.8706792 ]\n  [-0.52956736  0.2305574   0.29842514 -0.8706792 ]]\n\n [[ 0.07587458 -0.3194842  -0.30769327 -0.06336888]\n  [-0.04007056 -0.04407697  0.5631268  -0.2552955 ]\n  [-0.8628741   0.27576137  0.47795132  0.43498763]\n  ...\n  [-0.52956736  0.2305574   0.29842514 -0.8706792 ]\n  [-0.52956736  0.2305574   0.29842514 -0.8706792 ]\n  [-0.52956736  0.2305574   0.29842514 -0.8706792 ]]\n\n [[ 0.00316084 -0.38499662 -0.08968228  0.5187847 ]\n  [ 0.48632544 -0.0363537  -0.39114013 -0.19388679]\n  [-0.20211916  0.37838978  0.13891615  0.60927117]\n  ...\n  [-0.52956736  0.2305574   0.29842514 -0.8706792 ]\n  [-0.52956736  0.2305574   0.29842514 -0.8706792 ]\n  [-0.52956736  0.2305574   0.29842514 -0.8706792 ]]]\nsequence_length:\n[[ True  True  True ...  True  True  True]\n [ True  True  True ...  True  True  True]\n [ True  True  True ...  True  True  True]]\n"
    }
   ],
   "source": [
    "click_layer = varlen_embedding_layer(\"click_adids\", embedding_size, varlen_len_dic[\"click_adids\"])\n",
    "seq, seq_len = click_layer(example)\n",
    "seq_mask = tf.sequence_mask(seq_len)\n",
    "print(f\"sequence:\\n{seq}\\nsequence_length:\\n{seq_mask}\")"
   ]
  },
  {
   "cell_type": "code",
   "execution_count": 14,
   "metadata": {},
   "outputs": [
    {
     "name": "stdout",
     "output_type": "stream",
     "text": "{'m1': 54, 'bid': 54, 'adid': 12, 'adspaceid': 6, 'adtype': 6, 'nt': 6, 'osv': 6, 'p_city': 24, 'appid': 6}\n{'click_adids': 78, 'install_pkgs': 54}\n"
    }
   ],
   "source": [
    "sparse_embedding_size_dic = {fe: 6 * int(pow(sparse_len_dic[fe], 0.25)) for fe in sparse_len_dic}\n",
    "varlen_embedding_size_dic = {fe: 6 * int(pow(varlen_len_dic[fe], 0.25)) for fe in varlen_len_dic}\n",
    "print(sparse_embedding_size_dic)\n",
    "print(varlen_embedding_size_dic)"
   ]
  },
  {
   "cell_type": "code",
   "execution_count": 15,
   "metadata": {},
   "outputs": [
    {
     "data": {
      "text/plain": "<tf.Tensor: shape=(2, 2), dtype=float32, numpy=\narray([[1.5, 2.5],\n       [1.5, 3.5]], dtype=float32)>"
     },
     "execution_count": 15,
     "metadata": {},
     "output_type": "execute_result"
    }
   ],
   "source": [
    "k = tf.constant([[[1. , 2.], [2., 3.]], [[1., 3.], [2., 4.]]])\n",
    "tf.math.reduce_mean(k, axis=1,)"
   ]
  },
  {
   "cell_type": "code",
   "execution_count": 16,
   "metadata": {},
   "outputs": [],
   "source": [
    "def DeepVec(sparse_feature_name, varlen_feature_name, target_item_name,\n",
    "            sparse_len_dic, varlen_len_dic, varlen_maxlen, item_embedding_size = 8,\n",
    "            hidden_unit_user_info = (80, 12), hidden_unit_target = (80, 12), embedding_size = \"auto\", combiner='sum'):\n",
    "    \n",
    "    # process the embedding size parameter.\n",
    "    if embedding_size == \"auto\":\n",
    "        sparse_embedding_size_dic = {fe: 6 * int(pow(sparse_len_dic[fe], 0.25)) \\\n",
    "                                        for fe in sparse_len_dic}\n",
    "        varlen_embedding_size_dic = {fe: 6 * int(pow(varlen_len_dic[fe], 0.25)) \\\n",
    "                                        for fe in varlen_len_dic}\n",
    "    elif isinstance(embedding_size, int):\n",
    "        sparse_embedding_size_dic = {fe: embedding_size for fe in sparse_len_dic}\n",
    "        varlen_embedding_size_dic = {fe: embedding_size for fe in varlen_len_dic}\n",
    "    elif isinstance(embedding_size, dict):\n",
    "        sparse_embedding_size_dic = {fe: embedding_size[fe] for fe in sparse_len_dic}\n",
    "        varlen_embedding_size_dic = {fe: embedding_size[fe] for fe in varlen_len_dic}\n",
    "    else:\n",
    "        raise ValueError()\n",
    "    \n",
    "    if len(sparse_feature_name + varlen_feature_name) == 0:\n",
    "        raise ValueError(\"sparse_feature_name and varlen_feature_name are not None.\")\n",
    "\n",
    "    # build the input layers.\n",
    "    inputs_dic = {}\n",
    "    for spa in sparse_feature_name:\n",
    "        inputs_dic.update({spa: Input(shape=(1,), name = spa)})\n",
    "        \n",
    "    for var in varlen_feature_name:\n",
    "        inputs_dic.update({var: Input(shape=(varlen_maxlen[spa],), name = var)})\n",
    "\n",
    "    # build the user and context info vector part.\n",
    "    sparse_emb_layers = []\n",
    "    for spa in sparse_feature_name:\n",
    "        if spa != target_item_name:\n",
    "            sparse_emb_layer = sparse_embeding_layer(spa, \n",
    "                                embedding_size=sparse_embedding_size_dic[spa],\n",
    "                                vocab_size=sparse_len_dic[spa],\n",
    "                                )\n",
    "\n",
    "            sparse_emb_layers.append(sparse_emb_layer(inputs_dic[spa]))\n",
    "    \n",
    "    varlen_emb_layers = []\n",
    "    for var in varlen_feature_name:\n",
    "        varlen_emb_layer = varlen_embedding_layer(var, \n",
    "                              embedding_size=varlen_embedding_size_dic[var],\n",
    "                              vocab_size=varlen_len_dic[var],\n",
    "                            )\n",
    "        varlen_seq, seq_len = varlen_emb_layer(inputs_dic[var])\n",
    "        sumpooling_layer = SumPooling(name=var)\n",
    "        varlen_emb_layers.append(sumpooling_layer(varlen_seq, mask=seq_len, mode=combiner))\n",
    "    \n",
    "    concat = layers.Concatenate(axis=-1)(sparse_emb_layers + varlen_emb_layers)\n",
    "\n",
    "    DNN = concat\n",
    "    for i, u in enumerate(hidden_unit_user_info):\n",
    "        DNN = layers.Dense(u, name=f\"DNN_{i}_user_info\")(DNN)\n",
    "    user_info = DNN\n",
    "\n",
    "    target_vec = sparse_embeding_layer(target_item_name, embedding_size[target_item_name],\n",
    "                            vocab_size = sparse_embedding_size_dic[spa],\n",
    "                            name=\"target_emb_layer\")\n",
    "\n",
    "    DNN = target_vec(inputs_dic[target_item_name])\n",
    "    for i, u in enumerate(hidden_unit_target):\n",
    "        DNN = layers.Dense(u, name=f\"DNN_{i}_target\")(DNN)\n",
    "    target_info = DNN\n",
    "\n",
    "    outputs = layers.Dot(axes=-1, normalize=True)([user_info, target_info])\n",
    "\n",
    "    model = tf.keras.Model(inputs=inputs_dic, outputs=outputs)\n",
    "\n",
    "    return model\n",
    "\n"
   ]
  },
  {
   "cell_type": "code",
   "execution_count": 17,
   "metadata": {},
   "outputs": [
    {
     "ename": "KeyError",
     "evalue": "'p_city'",
     "output_type": "error",
     "traceback": [
      "\u001b[0;31m---------------------------------------------------------------------------\u001b[0m",
      "\u001b[0;31mKeyError\u001b[0m                                  Traceback (most recent call last)",
      "\u001b[0;32m<ipython-input-17-30e34ec1ad40>\u001b[0m in \u001b[0;36m<module>\u001b[0;34m\u001b[0m\n\u001b[1;32m      1\u001b[0m model = DeepVec(sparses, varlens, \"adid\", sparse_len_dic, \n\u001b[0;32m----> 2\u001b[0;31m                 varlen_len_dic, varlen_maxlen_f)\n\u001b[0m\u001b[1;32m      3\u001b[0m \u001b[0mmodel\u001b[0m\u001b[0;34m.\u001b[0m\u001b[0msummary\u001b[0m\u001b[0;34m(\u001b[0m\u001b[0;34m)\u001b[0m\u001b[0;34m\u001b[0m\u001b[0;34m\u001b[0m\u001b[0m\n\u001b[1;32m      4\u001b[0m \u001b[0mplot_model\u001b[0m\u001b[0;34m(\u001b[0m\u001b[0mmodel\u001b[0m\u001b[0;34m,\u001b[0m \u001b[0;34m\"DeepVec.png\"\u001b[0m\u001b[0;34m,\u001b[0m \u001b[0mshow_shapes\u001b[0m\u001b[0;34m=\u001b[0m\u001b[0;32mTrue\u001b[0m\u001b[0;34m)\u001b[0m\u001b[0;34m\u001b[0m\u001b[0;34m\u001b[0m\u001b[0m\n",
      "\u001b[0;32m<ipython-input-16-aa61ab64684c>\u001b[0m in \u001b[0;36mDeepVec\u001b[0;34m(sparse_feature_name, varlen_feature_name, target_item_name, sparse_len_dic, varlen_len_dic, varlen_maxlen, item_embedding_size, hidden_unit_user_info, hidden_unit_target, embedding_size, combiner)\u001b[0m\n\u001b[1;32m     27\u001b[0m \u001b[0;34m\u001b[0m\u001b[0m\n\u001b[1;32m     28\u001b[0m     \u001b[0;32mfor\u001b[0m \u001b[0mvar\u001b[0m \u001b[0;32min\u001b[0m \u001b[0mvarlen_feature_name\u001b[0m\u001b[0;34m:\u001b[0m\u001b[0;34m\u001b[0m\u001b[0;34m\u001b[0m\u001b[0m\n\u001b[0;32m---> 29\u001b[0;31m         \u001b[0minputs_dic\u001b[0m\u001b[0;34m.\u001b[0m\u001b[0mupdate\u001b[0m\u001b[0;34m(\u001b[0m\u001b[0;34m{\u001b[0m\u001b[0mvar\u001b[0m\u001b[0;34m:\u001b[0m \u001b[0mInput\u001b[0m\u001b[0;34m(\u001b[0m\u001b[0mshape\u001b[0m\u001b[0;34m=\u001b[0m\u001b[0;34m(\u001b[0m\u001b[0mvarlen_maxlen\u001b[0m\u001b[0;34m[\u001b[0m\u001b[0mspa\u001b[0m\u001b[0;34m]\u001b[0m\u001b[0;34m,\u001b[0m\u001b[0;34m)\u001b[0m\u001b[0;34m,\u001b[0m \u001b[0mname\u001b[0m \u001b[0;34m=\u001b[0m \u001b[0mvar\u001b[0m\u001b[0;34m)\u001b[0m\u001b[0;34m}\u001b[0m\u001b[0;34m)\u001b[0m\u001b[0;34m\u001b[0m\u001b[0;34m\u001b[0m\u001b[0m\n\u001b[0m\u001b[1;32m     30\u001b[0m \u001b[0;34m\u001b[0m\u001b[0m\n\u001b[1;32m     31\u001b[0m     \u001b[0;31m# build the user and context info vector part.\u001b[0m\u001b[0;34m\u001b[0m\u001b[0;34m\u001b[0m\u001b[0;34m\u001b[0m\u001b[0m\n",
      "\u001b[0;31mKeyError\u001b[0m: 'p_city'"
     ]
    }
   ],
   "source": [
    "model = DeepVec(sparses, varlens, \"adid\", sparse_len_dic, \n",
    "                varlen_len_dic, varlen_maxlen_f)\n",
    "model.summary()\n",
    "plot_model(model, \"DeepVec.png\", show_shapes=True)"
   ]
  },
  {
   "cell_type": "code",
   "execution_count": null,
   "metadata": {},
   "outputs": [],
   "source": []
  }
 ]
}